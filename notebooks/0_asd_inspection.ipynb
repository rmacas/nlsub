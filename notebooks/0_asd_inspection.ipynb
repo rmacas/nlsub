{
 "cells": [
  {
   "cell_type": "markdown",
   "id": "1562f87a",
   "metadata": {},
   "source": [
    "# Data inspection for ASD\n",
    "Inspecting data that was chosen to be used for estimating the ASD. 1264315666 ± 256s was chosen because this time is relatively quiet and close to the event time.\n",
    "\n",
    "Parameters:\n",
    "- 4s duration FFTs with 2s overlap\n",
    "- 512s data\n",
    "- median ASD\n",
    "\n",
    "Note: use igwn-py39 env [or any other IGWN-approved env] at a LIGO cluster"
   ]
  },
  {
   "cell_type": "code",
   "execution_count": null,
   "id": "41b7ccc7",
   "metadata": {},
   "outputs": [],
   "source": [
    "import numpy as np\n",
    "import matplotlib.pyplot as plt\n",
    "\n",
    "from gwpy.timeseries import TimeSeries\n",
    "from gwpy.plot import Plot"
   ]
  },
  {
   "cell_type": "code",
   "execution_count": null,
   "id": "89cbb6b0",
   "metadata": {},
   "outputs": [],
   "source": [
    "gps_event = 1264316116\n",
    "gps_asd = gps_event - 450\n",
    "asd_win = 256\n",
    "start_gps = gps_asd - asd_win\n",
    "end_gps = gps_asd + asd_win\n",
    "\n",
    "frate = 512"
   ]
  },
  {
   "cell_type": "markdown",
   "id": "a5ef853b",
   "metadata": {},
   "source": [
    "## Get data"
   ]
  },
  {
   "cell_type": "code",
   "execution_count": null,
   "id": "312d9488",
   "metadata": {},
   "outputs": [],
   "source": [
    "frame = 'L1_HOFT_C01'\n",
    "\n",
    "channels = ['L1:DCS-CALIB_STRAIN_CLEAN_C01',\n",
    "            'L1:LSC-POP_A_RF45_I_ERR_DQ',\n",
    "            'L1:LSC-POP_A_RF45_Q_ERR_DQ',\n",
    "            'L1:LSC-POP_A_RF9_I_ERR_DQ']\n",
    "\n",
    "tseries = []\n",
    "for channel in channels:\n",
    "    tseries.append(TimeSeries.get(channel=channel, start=start_gps, end=end_gps, frametype=frame).resample(frate))"
   ]
  },
  {
   "cell_type": "markdown",
   "id": "b5275d16",
   "metadata": {},
   "source": [
    "## Plot tseries and oscans"
   ]
  },
  {
   "cell_type": "code",
   "execution_count": null,
   "id": "8e3b5032",
   "metadata": {},
   "outputs": [],
   "source": [
    "# strain\n",
    "plot = tseries[0].plot()\n",
    "plot.show()\n",
    "\n",
    "oscan = tseries[0].q_transform(qrange=(10,20))\n",
    "plot_orig = oscan.plot()\n",
    "ax = plot_orig.gca()\n",
    "ax.set_yscale('log')\n",
    "ax.set_ylim(10,frate/2)\n",
    "ax.colorbar(cmap='viridis', label='Normalized energy',vmin=0,vmax=25)\n",
    "ax.grid(alpha=0.6)\n",
    "\n",
    "# aux\n",
    "plot = tseries[1].plot()\n",
    "plot.show()\n",
    "\n",
    "oscan = tseries[1].q_transform(qrange=(10,20))\n",
    "plot_orig = oscan.plot()\n",
    "ax = plot_orig.gca()\n",
    "ax.set_yscale('log')\n",
    "ax.set_ylim(10,frate/2)\n",
    "ax.colorbar(cmap='viridis', label='Normalized energy',vmin=0,vmax=25)\n",
    "ax.grid(alpha=0.6)"
   ]
  },
  {
   "cell_type": "markdown",
   "id": "60403bec",
   "metadata": {},
   "source": [
    "## Show median ASDs"
   ]
  },
  {
   "cell_type": "code",
   "execution_count": null,
   "id": "896a92e2",
   "metadata": {},
   "outputs": [],
   "source": [
    "asds = []\n",
    "\n",
    "for idx in range(len(channels)):\n",
    "    \n",
    "    median_asd = tseries[idx].asd(4, 2, method='median')\n",
    "    \n",
    "    # inflate the ASD below 10Hz\n",
    "    cutoff_idx = np.argmin(np.abs(median_asd.frequencies.value - 10))\n",
    "    max_val = np.max(median_asd)\n",
    "    median_asd[0:cutoff_idx] = max_val\n",
    "    \n",
    "    asds.append(median_asd)\n",
    "\n",
    "    plot = Plot()\n",
    "    ax = plot.add_subplot(\n",
    "        xscale='log', xlim=(1, frate/2), xlabel='Frequency [Hz]',\n",
    "        yscale='log',\n",
    "        ylabel=r'Noise [1/$\\sqrt{\\mathrm{Hz}}$]',\n",
    "    )\n",
    "    ax.plot(median_asd.frequencies, median_asd, color='gwpy:ligo-livingston')"
   ]
  }
 ],
 "metadata": {
  "kernelspec": {
   "display_name": " igwn-py",
   "language": "python",
   "name": "igwn-py"
  },
  "language_info": {
   "codemirror_mode": {
    "name": "ipython",
    "version": 3
   },
   "file_extension": ".py",
   "mimetype": "text/x-python",
   "name": "python",
   "nbconvert_exporter": "python",
   "pygments_lexer": "ipython3",
   "version": "3.10.12"
  }
 },
 "nbformat": 4,
 "nbformat_minor": 5
}
