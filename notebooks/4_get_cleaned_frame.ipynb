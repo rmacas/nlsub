{
 "cells": [
  {
   "cell_type": "markdown",
   "id": "bded2b66",
   "metadata": {},
   "source": [
    "# Use the model to get the cleaned frame"
   ]
  },
  {
   "cell_type": "code",
   "execution_count": null,
   "id": "101b5f27",
   "metadata": {},
   "outputs": [],
   "source": [
    "import json\n",
    "import scipy\n",
    "\n",
    "import numpy as np\n",
    "import matplotlib.pyplot as plt\n",
    "\n",
    "from gwpy.timeseries import TimeSeries\n",
    "from gwpy.frequencyseries import FrequencySeries\n",
    "\n",
    "import tensorflow as tf\n",
    "\n",
    "import gwpy"
   ]
  },
  {
   "cell_type": "markdown",
   "id": "beb3cc61",
   "metadata": {},
   "source": [
    "## Load and prep the data"
   ]
  },
  {
   "cell_type": "code",
   "execution_count": null,
   "id": "64e79647",
   "metadata": {},
   "outputs": [],
   "source": [
    "# load dataset params\n",
    "with open(f'output/model/dataset_params.json') as dset_file:\n",
    "    dset_params = json.load(dset_file)                                        \n",
    "\n",
    "fs = dset_params['fs']\n",
    "rec_size = dset_params['rec_size']\n",
    "rec_future = dset_params['rec_future']\n",
    "norm_factors_orig = dset_params['norm_values']"
   ]
  },
  {
   "cell_type": "code",
   "execution_count": null,
   "id": "08f178cb",
   "metadata": {},
   "outputs": [],
   "source": [
    "fs=512"
   ]
  },
  {
   "cell_type": "code",
   "execution_count": null,
   "id": "4fb3eb09",
   "metadata": {},
   "outputs": [],
   "source": [
    "def load_data(channels):\n",
    "    \n",
    "    dset = []\n",
    "    norm_factors = []\n",
    "    \n",
    "    for channel in channels:\n",
    "        \n",
    "        # load data\n",
    "        fname = f'data/{channel}' \n",
    "        data = np.load(fname)\n",
    "        \n",
    "        # remove sides due to whitening artifacts\n",
    "        gps_times = data[fs*4:-fs*4, 0]\n",
    "        data_tseries = data[fs*4:-fs*4, 1].reshape(-1, 1)\n",
    "        \n",
    "        # normalize and append tseries\n",
    "        norm_factor = np.max(np.abs(data_tseries))\n",
    "        norm_factors.append(norm_factor)\n",
    "        dset.append(data_tseries / norm_factor)\n",
    "    \n",
    "    dset = np.squeeze(dset)\n",
    "    dset = np.float32(dset)\n",
    "    gps_times = np.array(gps_times)\n",
    "    \n",
    "    return dset, gps_times, norm_factors\n",
    "\n",
    "\n",
    "channels = ['DCS-CALIB_STRAIN_CLEAN_C01_512Hz_event_4096s_whitened.npy',\n",
    "            'LSC-POP_A_RF45_I_ERR_DQ_512Hz_event_4096s_whitened.npy',\n",
    "            'LSC-POP_A_RF45_Q_ERR_DQ_512Hz_event_4096s_whitened.npy',\n",
    "            'LSC-POP_A_RF9_I_ERR_DQ_512Hz_event_4096s_whitened.npy']\n",
    "\n",
    "dset, gps_times, norm_factors = load_data(channels)"
   ]
  },
  {
   "cell_type": "code",
   "execution_count": null,
   "id": "dd0c780b",
   "metadata": {},
   "outputs": [],
   "source": [
    "# re-normalize the data w.r.t. the dataset used in the training\n",
    "dset_norm = dset.copy()\n",
    "for i in range(4):\n",
    "    dset_norm[i,:] = dset_norm[i,:] * norm_factors[i] / norm_factors_orig[i]"
   ]
  },
  {
   "cell_type": "markdown",
   "id": "8e581df1",
   "metadata": {},
   "source": [
    "## Get the predicted noise in steps due to limited memory\n",
    "Do this step only if there are no original_tseries.npy and noise_tseries.npy files in the /output folder"
   ]
  },
  {
   "cell_type": "code",
   "execution_count": null,
   "id": "488975c9",
   "metadata": {},
   "outputs": [],
   "source": [
    "# get start/end idx for each step\n",
    "break_points = np.linspace(0, len(dset[1,:]), num=32, endpoint=True)\n",
    "idx_start = break_points.copy()\n",
    "idx_start = idx_start[0:-1]\n",
    "idx_start[1:] = idx_start[1:] - rec_size\n",
    "idx_end = break_points[1:]"
   ]
  },
  {
   "cell_type": "code",
   "execution_count": null,
   "metadata": {},
   "outputs": [],
   "source": []
  },
  {
   "cell_type": "code",
   "execution_count": null,
   "id": "e28dce63",
   "metadata": {},
   "outputs": [],
   "source": [
    "def get_arrays(dset, input_values, output_values, box_start, box_end, rec_size, rec_future):\n",
    "    rec_past = rec_size - rec_future\n",
    "    for i in range(box_start+rec_past, box_end-rec_future):\n",
    "        array = np.array([dset[1, i-rec_past:i+rec_future],\n",
    "                          dset[2, i-rec_past:i+rec_future],\n",
    "                          dset[3, i-rec_past:i+rec_future]])\n",
    "        input_values.append(array)\n",
    "    output_values.append(dset[0, box_start+rec_past:box_end-rec_future])\n",
    "    \n",
    "    return input_values, output_values"
   ]
  },
  {
   "cell_type": "code",
   "execution_count": null,
   "id": "8927d5cb",
   "metadata": {},
   "outputs": [],
   "source": [
    "model = tf.keras.models.load_model('output/model')\n",
    "output_gps_times = gps_times[rec_size-rec_future:-rec_future]\n",
    "\n",
    "prediction = np.empty([1,1])\n",
    "output = np.empty([1,1])\n",
    "\n",
    "for i in range(len(idx_start)):\n",
    "\n",
    "    input_start_idx = int(idx_start[i])\n",
    "    input_end_idx = int(idx_end[i])\n",
    "    \n",
    "    # create input/output arrays\n",
    "    input_values = []\n",
    "    output_values = []\n",
    "    input_values, output_values = get_arrays(dset_norm, input_values, output_values, input_start_idx, \n",
    "                                             input_end_idx, rec_size, rec_future)\n",
    "\n",
    "    input_values = np.array(input_values)\n",
    "    output_values = np.hstack(output_values).reshape(-1,1)\n",
    "\n",
    "    step_prediction = model.predict(input_values)\n",
    "    \n",
    "    prediction = np.concatenate([prediction, step_prediction])\n",
    "    output = np.concatenate([output, output_values])\n",
    "    \n",
    "prediction = prediction[1:]\n",
    "output = output[1:]"
   ]
  },
  {
   "cell_type": "code",
   "execution_count": null,
   "id": "18fe1729",
   "metadata": {},
   "outputs": [],
   "source": [
    "# save original and noisy tseries\n",
    "original_tseries = np.array([np.squeeze(output_gps_times), np.squeeze(output)])\n",
    "noise_tseries = np.array([np.squeeze(output_gps_times), np.squeeze(prediction)])\n",
    "np.save('output/original_tseries', original_tseries)\n",
    "np.save('output/noise_tseries', noise_tseries)"
   ]
  },
  {
   "cell_type": "markdown",
   "id": "bfe03249",
   "metadata": {},
   "source": [
    "## Color, upsample the data and get the cleaned frame"
   ]
  },
  {
   "cell_type": "code",
   "execution_count": null,
   "id": "716ed100",
   "metadata": {},
   "outputs": [],
   "source": [
    "# load tseries\n",
    "data = np.load('output/noise_tseries.npy')\n",
    "noise_tseries = TimeSeries(data[1,:], times=data[0,:])\n",
    "gps_times = np.load('output/noise_tseries.npy')[0,:]"
   ]
  },
  {
   "cell_type": "code",
   "execution_count": null,
   "id": "85ca77d4",
   "metadata": {},
   "outputs": [],
   "source": [
    "# load ASD\n",
    "asd = FrequencySeries.read(f'data/DCS-CALIB_STRAIN_CLEAN_C01_512Hz_ASD.txt')"
   ]
  },
  {
   "cell_type": "code",
   "execution_count": null,
   "id": "0374175f",
   "metadata": {},
   "outputs": [],
   "source": []
  },
  {
   "cell_type": "code",
   "execution_count": null,
   "id": "8644cc69",
   "metadata": {},
   "outputs": [],
   "source": [
    "fs = 512\n",
    "f_low = 10\n",
    "asd_win = 4 \n",
    "\n",
    "# create a filter in time domain\n",
    "firwin = scipy.signal.firwin(asd_win*fs+1, [f_low], pass_zero=False, window='hann', fs=fs)\n",
    "\n",
    "# covert it to freq domain and remove phase\n",
    "ffirwin = np.abs(scipy.fft.rfft(firwin))\n",
    "\n",
    "# multiply the filter with the asd\n",
    "asd_filtered = ffirwin * asd\n",
    "\n",
    "# convert the asd to tseries\n",
    "time_asd = scipy.fft.irfft(asd_filtered)\n",
    "\n",
    "# roll it and smooth the edges out\n",
    "time_asd = np.roll(time_asd, len(time_asd)//2)\n",
    "hann = scipy.signal.windows.hann(len(time_asd))\n",
    "time_asd = time_asd * hann\n",
    "\n",
    "# pad with zeros\n",
    "zeros = np.zeros(len(noise_tseries))\n",
    "zeros[0:len(time_asd)] = time_asd\n",
    "time_asd = zeros\n",
    "\n",
    "# convert back the ASD to freq series\n",
    "freq_asd = np.abs(scipy.fft.rfft(time_asd))\n",
    "\n",
    "# tseries in freq domain\n",
    "fseries = scipy.fft.rfft(noise_tseries)\n",
    "\n",
    "# color tseries\n",
    "colored = scipy.fft.irfft(fseries * freq_asd) * norm_factors_orig[0]\n",
    "colored_tseries = TimeSeries(colored[2048:-2048], times=gps_times[2048:-2048])\n",
    "\n",
    "# upsample\n",
    "colored_tseries_upsampled = colored_tseries.resample(4096)"
   ]
  },
  {
   "cell_type": "code",
   "execution_count": null,
   "id": "e6d5bb74",
   "metadata": {},
   "outputs": [],
   "source": [
    "# load 4096Hz original tseries and crop it\n",
    "data = np.load(f'data/DCS-CALIB_STRAIN_CLEAN_C01_4096Hz_event_4096s.npy')\n",
    "orig_tseries = TimeSeries(data[:,1], times=data[:,0])\n",
    "orig_tseries_cropped = orig_tseries.crop(colored_tseries_upsampled.times[0], colored_tseries_upsampled.times[-1])\n",
    "\n",
    "# get the cleaned tseries and save it\n",
    "cleaned_tseries = orig_tseries_cropped - colored_tseries_upsampled[:-1]\n",
    "cleaned_tseries_array = np.array([cleaned_tseries.times, cleaned_tseries])\n",
    "np.save('output/DCS-CALIB_STRAIN_CLEAN_C01_4096Hz_event_cleaned', cleaned_tseries_array)"
   ]
  },
  {
   "cell_type": "markdown",
   "id": "f78968f8",
   "metadata": {},
   "source": [
    "## Specgrams of the cleaned data"
   ]
  },
  {
   "cell_type": "code",
   "execution_count": null,
   "id": "a0ad1dca-f6f3-4154-939d-4fa32740fac2",
   "metadata": {},
   "outputs": [],
   "source": [
    "data = np.load(f'data/DCS-CALIB_STRAIN_CLEAN_C01_4096Hz_event_4096s.npy')\n",
    "orig_tseries = TimeSeries(data[:,1], times=data[:,0])\n",
    "\n",
    "data = np.load(f'output/DCS-CALIB_STRAIN_CLEAN_C01_4096Hz_event_cleaned.npy')\n",
    "cleaned_tseries = TimeSeries(data[1,:], times=data[0,:])"
   ]
  },
  {
   "cell_type": "code",
   "execution_count": null,
   "id": "12d0f73c",
   "metadata": {},
   "outputs": [],
   "source": [
    "# plotting params\n",
    "gps = 1264316116.5\n",
    "crop_win = 20\n",
    "start_crop = gps - crop_win\n",
    "end_crop = gps + crop_win\n",
    "plot_win = 2\n",
    "start_plot = gps - plot_win\n",
    "end_plot = gps + plot_win\n",
    "\n",
    "# crop data for faster q transforms\n",
    "orig_tseries_cropped = orig_tseries.crop(start_crop,end_crop)\n",
    "cleaned_tseries_cropped = cleaned_tseries.crop(start_crop, end_crop)\n",
    "\n",
    "dataset = ['orig','clean','diff']\n",
    "q_trans = {}\n",
    "q_trans['orig'] = orig_tseries_cropped.q_transform(outseg=(start_plot,end_plot),qrange=(10,20))\n",
    "q_trans['clean'] = cleaned_tseries_cropped.q_transform(outseg=(start_plot,end_plot),qrange=(10,20))\n",
    "q_trans['diff'] = q_trans['orig'] - q_trans['clean']\n",
    "\n",
    "ylim = (10, 512) \n",
    "alim = (0, 25)\n",
    "\n",
    "label = {}\n",
    "label['orig'] = 'Original data'\n",
    "label['clean'] = 'Cleaned data'\n",
    "label['diff'] = 'Original - Cleaned'\n",
    "\n",
    "plot, axes = plt.subplots(nrows=3, sharex=True, figsize=(3.375*2.0,3.375*3.0))\n",
    "\n",
    "for i, ax in zip(dataset,axes):\n",
    "\n",
    "    pcm = ax.imshow(q_trans[i],vmin=alim[0],vmax=alim[1])\n",
    "    ax.set_ylim(ylim[0],ylim[1])\n",
    "    ax.set_xlabel('')\n",
    "    ax.set_yscale('log')\n",
    "    ax.plot([gps],10, label=label[i], visible=False)\n",
    "    ax.grid(alpha=0.6)\n",
    "    ax.legend(loc='upper left', handlelength=0, handletextpad=0)\n",
    "\n",
    "axes[1].set_ylabel(r\"$\\mathrm{Frequency \\ (Hz)}$\")\n",
    "axes[-1].set_xlabel(r\"$\\mathrm{Time \\ (seconds)}$\")\n",
    "cbar = axes[0].colorbar(clim=(alim[0], alim[1]),location='top')\n",
    "cbar.set_label(r\"$\\mathrm{Normalized \\ energy}$\");"
   ]
  },
  {
   "cell_type": "code",
   "execution_count": null,
   "id": "e0793013-492b-4ebc-9fcd-ca94a3dc17cd",
   "metadata": {},
   "outputs": [],
   "source": []
  }
 ],
 "metadata": {
  "kernelspec": {
   "display_name": "nlsub-dev",
   "language": "python",
   "name": "python3"
  },
  "language_info": {
   "codemirror_mode": {
    "name": "ipython",
    "version": 3
   },
   "file_extension": ".py",
   "mimetype": "text/x-python",
   "name": "python",
   "nbconvert_exporter": "python",
   "pygments_lexer": "ipython3",
   "version": "3.10.12"
  }
 },
 "nbformat": 4,
 "nbformat_minor": 5
}
