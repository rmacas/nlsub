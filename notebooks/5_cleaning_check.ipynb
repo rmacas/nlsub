{
 "cells": [
  {
   "cell_type": "markdown",
   "id": "eb2e0136",
   "metadata": {},
   "source": [
    "# Checking the cleaned data"
   ]
  },
  {
   "cell_type": "code",
   "execution_count": null,
   "id": "101b5f27",
   "metadata": {},
   "outputs": [],
   "source": [
    "import numpy as np\n",
    "import matplotlib.pyplot as plt\n",
    "\n",
    "from gwpy.timeseries import TimeSeries\n",
    "from gwpy.frequencyseries import FrequencySeries"
   ]
  },
  {
   "cell_type": "markdown",
   "id": "aa15c064",
   "metadata": {},
   "source": [
    "## Upsampling and coloring\n",
    "Check if upsampling and coloring are implemented correctly. Do that simply by comparing the cleaned data before upsampling/coloring and after."
   ]
  },
  {
   "cell_type": "code",
   "execution_count": null,
   "id": "5257861e",
   "metadata": {},
   "outputs": [],
   "source": [
    "# load data before upsampling/coloring\n",
    "noise_tseries = np.load('output/noise_tseries.npy')\n",
    "orig_tseries = np.load('output/original_tseries.npy')\n",
    "clean_tseries_before = TimeSeries(orig_tseries[1,:] - noise_tseries[1,:], times=orig_tseries[0,:])\n",
    "\n",
    "# load data after upsampling/coloring\n",
    "clean_tseries_after = np.load('output/DCS-CALIB_STRAIN_CLEAN_C01_4096Hz_event_cleaned.npy')\n",
    "clean_tseries_after = TimeSeries(clean_tseries_after[1, :], times=clean_tseries_after[0, :])"
   ]
  },
  {
   "cell_type": "code",
   "execution_count": null,
   "id": "5caa18c3",
   "metadata": {},
   "outputs": [],
   "source": [
    "# plotting params\n",
    "gps = 1264316116\n",
    "crop_win = 20\n",
    "start_crop = gps - crop_win\n",
    "end_crop = gps + crop_win\n",
    "plot_win = 3\n",
    "start_plot = gps - plot_win\n",
    "end_plot = gps + plot_win\n",
    "tick_spacing = 1"
   ]
  },
  {
   "cell_type": "code",
   "execution_count": null,
   "id": "61ff6675",
   "metadata": {},
   "outputs": [],
   "source": [
    "# crop data for faster q transforms\n",
    "clean_tseries_before_cropped = clean_tseries_before.crop(start_crop, end_crop)\n",
    "clean_tseries_after_cropped = clean_tseries_after.crop(start_crop, end_crop)\n",
    "\n",
    "dataset = ['before','after']\n",
    "q_trans = {}\n",
    "q_trans['before'] = clean_tseries_before_cropped.q_transform(outseg=(start_plot,end_plot),qrange=(10,20))\n",
    "q_trans['after'] = clean_tseries_after_cropped.q_transform(outseg=(start_plot,end_plot),qrange=(10,20))\n",
    "\n",
    "ylim = (20, 500) \n",
    "alim = (0, 25)\n",
    "\n",
    "label = {}\n",
    "label['before'] = 'Before'\n",
    "label['after'] = 'After'\n",
    "\n",
    "plot, axes = plt.subplots(nrows=2, sharex=True, figsize=(3.375*2.0,3.375*2.0))\n",
    "\n",
    "for i, ax in zip(dataset,axes):\n",
    "\n",
    "    pcm = ax.imshow(q_trans[i],vmin=alim[0],vmax=alim[1])\n",
    "    ax.set_ylim(ylim[0],ylim[1])\n",
    "    ax.set_xlabel('')\n",
    "    ax.set_yscale('log')\n",
    "    ax.plot([gps],10, label=label[i], visible=False)\n",
    "    ax.grid(alpha=0.6)\n",
    "    ax.legend(loc='lower left', handlelength=0, handletextpad=0)\n",
    "\n",
    "axes[1].set_ylabel(r\"$\\mathrm{Frequency \\ (Hz)}$\")\n",
    "cbar = axes[0].colorbar(clim=(alim[0], alim[1]),location='top')\n",
    "cbar.set_label(r\"$\\mathrm{Normalized \\ energy}$\")\n",
    "#plt.savefig(f'output/plots/event_oscan.png')"
   ]
  },
  {
   "cell_type": "markdown",
   "id": "2294fa7a",
   "metadata": {
    "tags": []
   },
   "source": [
    "## Time series difference"
   ]
  },
  {
   "cell_type": "code",
   "execution_count": null,
   "id": "31dc49b6",
   "metadata": {},
   "outputs": [],
   "source": [
    "plot_win = 50\n",
    "start_plot = gps - plot_win\n",
    "end_plot = gps + plot_win\n",
    "\n",
    "orig_tseries_copy = TimeSeries(orig_tseries[1,:], times=orig_tseries[0,:])\n",
    "orig_tseries_copy = orig_tseries_copy.crop(start_plot,end_plot)\n",
    "\n",
    "noise_tseries_copy = TimeSeries(noise_tseries[1,:], times=noise_tseries[0,:])\n",
    "noise_tseries_copy = noise_tseries_copy.crop(start_plot,end_plot)\n",
    "\n",
    "clean_tseries_copy = orig_tseries_copy - noise_tseries_copy"
   ]
  },
  {
   "cell_type": "code",
   "execution_count": null,
   "id": "472967df",
   "metadata": {},
   "outputs": [],
   "source": [
    "plt.figure(figsize=(10,14))\n",
    "plt.subplot(3,1,1)\n",
    "plt.plot(noise_tseries_copy, label='noise')\n",
    "plt.legend()\n",
    "plt.subplot(3,1,2)\n",
    "plt.plot(orig_tseries_copy, label='original')\n",
    "plt.plot(noise_tseries_copy, label='noise')\n",
    "plt.legend()\n",
    "plt.subplot(3,1,3)\n",
    "plt.plot(clean_tseries_copy, label='original - noise')\n",
    "plt.legend()\n",
    "#plt.savefig(f'output/plots/training_{output_suffix}_tseries.png')"
   ]
  },
  {
   "cell_type": "code",
   "execution_count": null,
   "id": "099214e3",
   "metadata": {},
   "outputs": [],
   "source": [
    "start_plot = gps - 1\n",
    "end_plot = gps + 2\n",
    "\n",
    "orig_tseries_copy = TimeSeries(orig_tseries[1,:], times=orig_tseries[0,:])\n",
    "orig_tseries_copy = orig_tseries_copy.crop(start_plot,end_plot)\n",
    "\n",
    "noise_tseries_copy = TimeSeries(noise_tseries[1,:], times=noise_tseries[0,:])\n",
    "noise_tseries_copy = noise_tseries_copy.crop(start_plot,end_plot)\n",
    "\n",
    "clean_tseries_copy = orig_tseries_copy - noise_tseries_copy"
   ]
  },
  {
   "cell_type": "code",
   "execution_count": null,
   "id": "9f8b5455",
   "metadata": {},
   "outputs": [],
   "source": [
    "plt.figure(figsize=(10,14))\n",
    "plt.subplot(3,1,1)\n",
    "plt.plot(noise_tseries_copy, label='noise')\n",
    "plt.legend()\n",
    "plt.subplot(3,1,2)\n",
    "plt.plot(orig_tseries_copy, label='original')\n",
    "plt.plot(noise_tseries_copy, label='noise')\n",
    "plt.legend()\n",
    "plt.subplot(3,1,3)\n",
    "plt.plot(clean_tseries_copy, label='original - noise')\n",
    "plt.legend()\n",
    "#plt.savefig(f'output/plots/training_{output_suffix}_tseries.png')"
   ]
  },
  {
   "cell_type": "markdown",
   "id": "413ee049",
   "metadata": {
    "tags": []
   },
   "source": [
    "## Other checks\n",
    "Using the same checks as in https://ldas-jobs.ligo.caltech.edu/~derek.davis/detchar/O3/followup/glitch_subtraction_check/linear_sub_S200129m/final/lin_sub_comparison.html"
   ]
  },
  {
   "cell_type": "markdown",
   "id": "07a0b16c",
   "metadata": {},
   "source": [
    "### ASDs"
   ]
  },
  {
   "cell_type": "code",
   "execution_count": null,
   "id": "d1dfdffb",
   "metadata": {},
   "outputs": [],
   "source": [
    "orig_data_full  = TimeSeries(orig_tseries[1,:], times=orig_tseries[0,:])\n",
    "diff_data_full = TimeSeries(noise_tseries[1,:], times=noise_tseries[0,:])\n",
    "sub_data_full = orig_data_full - diff_data_full\n",
    "\n",
    "\n",
    "process_win = 64\n",
    "orig_data = orig_data_full.copy().crop(gps-process_win,gps+process_win)\n",
    "diff_data = diff_data_full.copy().crop(gps-process_win,gps+process_win)\n",
    "sub_data = sub_data_full.copy().crop(gps-process_win,gps+process_win)"
   ]
  },
  {
   "cell_type": "code",
   "execution_count": null,
   "id": "5f852591",
   "metadata": {},
   "outputs": [],
   "source": [
    "orig_asd = orig_data_full.asd(8,4)\n",
    "sub_asd = sub_data_full.asd(8,4)\n",
    "diff_asd = diff_data_full.asd(8,4)\n",
    "\n",
    "orig_asd_zoom = orig_data.asd(8,4)\n",
    "sub_asd_zoom = sub_data.asd(8,4)\n",
    "diff_asd_zoom = diff_data.asd(8,4)"
   ]
  },
  {
   "cell_type": "code",
   "execution_count": null,
   "id": "c7561393",
   "metadata": {},
   "outputs": [],
   "source": [
    "plot = orig_asd.plot(label='Original',figsize=[16,4])\n",
    "ax = plot.gca()\n",
    "ax.plot(sub_asd,label='Subtracted')\n",
    "ax.plot(diff_asd,label='Difference')\n",
    "ax.set_yscale('log')\n",
    "ax.set_xscale('log')\n",
    "ax.set_xlim(10,256)\n",
    "ax.legend()\n",
    "plot.show()"
   ]
  },
  {
   "cell_type": "code",
   "execution_count": null,
   "id": "1bb4f470",
   "metadata": {},
   "outputs": [],
   "source": [
    "plot = orig_asd_zoom.plot(label='Original',figsize=[16,4])\n",
    "ax = plot.gca()\n",
    "ax.plot(sub_asd_zoom,label='Subtracted')\n",
    "ax.plot(diff_asd_zoom,label='Difference')\n",
    "ax.set_yscale('log')\n",
    "ax.set_xscale('log')\n",
    "ax.set_xlim(10,256)\n",
    "ax.legend()"
   ]
  },
  {
   "cell_type": "markdown",
   "id": "d5968221",
   "metadata": {},
   "source": [
    "### Ratio of ASDs"
   ]
  },
  {
   "cell_type": "code",
   "execution_count": null,
   "id": "251f7093",
   "metadata": {},
   "outputs": [],
   "source": [
    "ratio  = sub_asd / orig_asd\n",
    "ratio_zoom  = sub_asd_zoom / orig_asd_zoom"
   ]
  },
  {
   "cell_type": "code",
   "execution_count": null,
   "id": "41b19d1e",
   "metadata": {},
   "outputs": [],
   "source": [
    "plot = ratio.plot(label='Ratio',figsize=[16,4])\n",
    "ax = plot.gca()\n",
    "#ax.set_yscale('log')\n",
    "ax.set_xscale('log')\n",
    "ax.set_xlim(10,256)\n",
    "ax.set_ylim(0.75,1.1)\n",
    "ax.set_ylabel('Ratio Sub/Orig')\n",
    "ax.legend()\n",
    "#plot.savefig('asd_ratio1.png')\n",
    "plot.show()"
   ]
  },
  {
   "cell_type": "code",
   "execution_count": null,
   "id": "fdbf3b17",
   "metadata": {},
   "outputs": [],
   "source": [
    "plot = ratio_zoom.plot(label='Ratio',figsize=[16,4])\n",
    "ax = plot.gca()\n",
    "#ax.set_yscale('log')\n",
    "ax.set_xscale('log')\n",
    "ax.set_xlim(10,256)\n",
    "ax.set_ylim(0.75,1.1)\n",
    "ax.set_ylabel('Ratio Sub/Orig')\n",
    "ax.legend()\n",
    "#plot.savefig('asd_ratio4.png')\n",
    "plot.show()"
   ]
  },
  {
   "cell_type": "markdown",
   "id": "a2bb8575",
   "metadata": {},
   "source": [
    "### Long duration specgrams"
   ]
  },
  {
   "cell_type": "code",
   "execution_count": null,
   "id": "c91cd666",
   "metadata": {},
   "outputs": [],
   "source": [
    "orig_spec = orig_data_full.spectrogram(2, fftlength=2, overlap=.5) ** (1/2.)\n",
    "orig_normal = orig_spec.ratio('median')\n",
    "\n",
    "plot = orig_normal.plot(norm='log', vmin=1., vmax=5, cmap='viridis')\n",
    "ax = plot.gca()\n",
    "ax.set_yscale('log')\n",
    "ax.set_ylim(10,256)\n",
    "ax.colorbar(label='Relative amplitude')\n",
    "plot.show()"
   ]
  },
  {
   "cell_type": "code",
   "execution_count": null,
   "id": "fcdf6f04",
   "metadata": {},
   "outputs": [],
   "source": [
    "sub_spec = sub_data_full.spectrogram(2, fftlength=2, overlap=.5) ** (1/2.)\n",
    "sub_normal = sub_spec.ratio('median')\n",
    "\n",
    "plot = sub_normal.plot(norm='log', vmin=1., vmax=5, cmap='viridis')\n",
    "ax = plot.gca()\n",
    "ax.set_yscale('log')\n",
    "ax.set_ylim(10,256)\n",
    "ax.colorbar(label='Relative amplitude')\n",
    "#plot.savefig('spectrogram_sub.png')\n",
    "plot.show()"
   ]
  },
  {
   "cell_type": "markdown",
   "id": "686b5074",
   "metadata": {},
   "source": [
    "### Specgrams"
   ]
  },
  {
   "cell_type": "code",
   "execution_count": null,
   "id": "ed826771",
   "metadata": {},
   "outputs": [],
   "source": [
    "def make_oscan(gps, oscan_name):\n",
    "    plot_win = 2\n",
    "    start_plot = gps - plot_win\n",
    "    end_plot = gps + plot_win\n",
    "\n",
    "    dataset = ['orig','clean','diff']\n",
    "    q_trans = {}\n",
    "    q_trans['orig'] = orig_data.q_transform(outseg=(start_plot,end_plot),qrange=(10,20))\n",
    "    q_trans['clean'] = sub_data.q_transform(outseg=(start_plot,end_plot),qrange=(10,20))\n",
    "    #q_trans['diff'] = diff_data.q_transform(outseg=(start_plot,end_plot),qrange=(10,20))\n",
    "    q_trans['diff'] = q_trans['orig'] - q_trans['clean']\n",
    "\n",
    "\n",
    "    ylim = (8, 200) \n",
    "    alim = (0, 25)\n",
    "\n",
    "    label = {}\n",
    "    label['orig'] = 'Original data'\n",
    "    label['clean'] = 'Cleaned data'\n",
    "    label['diff'] = 'Original - Cleaned'\n",
    "\n",
    "    plot, axes = plt.subplots(nrows=3, sharex=True, figsize=(3.375*2.0,3.375*3.0))\n",
    "\n",
    "    for i, ax in zip(dataset,axes):\n",
    "\n",
    "        pcm = ax.imshow(q_trans[i],vmin=alim[0],vmax=alim[1])\n",
    "        #ax.set_xlim(xlim[0],xlim[1])\n",
    "        ax.set_ylim(ylim[0],ylim[1])\n",
    "        ax.set_xlabel('')\n",
    "        ax.set_yscale('log')\n",
    "        #cbar = ax.colorbar(clim=(0, 15))\n",
    "        #cbar.set_label(r\"$\\mathrm{Normalized amplitude}$\")\n",
    "        ax.plot([gps],10, label=label[i], visible=False)\n",
    "        ax.grid(alpha=0.6)\n",
    "        ax.legend(loc='upper left', handlelength=0, handletextpad=0)\n",
    "\n",
    "    axes[1].set_ylabel(r\"$\\mathrm{Frequency \\ (Hz)}$\")\n",
    "    cbar = axes[0].colorbar(clim=(alim[0], alim[1]),location='top')\n",
    "    cbar.set_label(r\"$\\mathrm{Normalized \\ energy}$\")\n",
    "    #plt.savefig(f'plots/{oscan_name}.png')\n",
    "\n",
    "gps = 1264316116\n",
    "oscan_name = f'oscan_1'\n",
    "make_oscan(gps, oscan_name)\n",
    "gps = 1264316154\n",
    "oscan_name = f'oscan_2'\n",
    "make_oscan(gps, oscan_name)\n",
    "gps = 1264316164\n",
    "oscan_name = f'oscan_3'\n",
    "make_oscan(gps, oscan_name)"
   ]
  },
  {
   "cell_type": "code",
   "execution_count": null,
   "id": "e39e3598",
   "metadata": {},
   "outputs": [],
   "source": []
  }
 ],
 "metadata": {
  "kernelspec": {
   "display_name": "nlsub",
   "language": "python",
   "name": "nlsub"
  },
  "language_info": {
   "codemirror_mode": {
    "name": "ipython",
    "version": 3
   },
   "file_extension": ".py",
   "mimetype": "text/x-python",
   "name": "python",
   "nbconvert_exporter": "python",
   "pygments_lexer": "ipython3",
   "version": "3.7.12"
  }
 },
 "nbformat": 4,
 "nbformat_minor": 5
}
