{
 "cells": [
  {
   "cell_type": "markdown",
   "id": "0b399e28",
   "metadata": {},
   "source": [
    "# Plots for the paper"
   ]
  },
  {
   "cell_type": "code",
   "execution_count": null,
   "id": "d9d73daf",
   "metadata": {},
   "outputs": [],
   "source": [
    "import numpy as np\n",
    "import matplotlib.pyplot as plt\n",
    "from gwpy.timeseries import TimeSeries\n",
    "\n",
    "%matplotlib inline"
   ]
  },
  {
   "cell_type": "markdown",
   "id": "3318c0b1",
   "metadata": {},
   "source": [
    "## TSeries figure"
   ]
  },
  {
   "cell_type": "markdown",
   "id": "0b50c075",
   "metadata": {},
   "source": [
    "### Load data"
   ]
  },
  {
   "cell_type": "code",
   "execution_count": null,
   "id": "5300fdfa",
   "metadata": {},
   "outputs": [],
   "source": [
    "fs = 512  # sampling rate\n",
    "\n",
    "def load_data(channels):\n",
    "    \n",
    "    dset = []\n",
    "    norm_factors = []\n",
    "    \n",
    "    for channel in channels:\n",
    "        \n",
    "        # load data\n",
    "        fname = f'data/{channel}' \n",
    "        data = np.load(fname)\n",
    "        \n",
    "        # remove sides due to whitening artifacts\n",
    "        gps_times = data[fs*4:-fs*4, 0]\n",
    "        data_tseries = data[fs*4:-fs*4, 1].reshape(-1, 1)\n",
    "        \n",
    "        # normalize and append tseries\n",
    "        norm_factor = np.max(np.abs(data_tseries))\n",
    "        norm_factors.append(norm_factor)\n",
    "        dset.append(data_tseries / norm_factor)\n",
    "    \n",
    "    dset = np.squeeze(dset)\n",
    "    dset = np.float32(dset)\n",
    "    gps_times = np.array(gps_times)\n",
    "    \n",
    "    return dset, gps_times, norm_factors\n",
    "\n",
    "\n",
    "# load tseries data\n",
    "channels = ['DCS-CALIB_STRAIN_CLEAN_C01_512Hz_event_4096s_whitened.npy',\n",
    "            'LSC-POP_A_RF45_I_ERR_DQ_512Hz_event_4096s_whitened.npy',\n",
    "            'LSC-POP_A_RF45_Q_ERR_DQ_512Hz_event_4096s_whitened.npy',\n",
    "            'LSC-POP_A_RF9_I_ERR_DQ_512Hz_event_4096s_whitened.npy']\n",
    "\n",
    "dset, gps_times, norm_factors = load_data(channels)"
   ]
  },
  {
   "cell_type": "markdown",
   "id": "f6694fe1",
   "metadata": {},
   "source": [
    "### Make the plot"
   ]
  },
  {
   "cell_type": "code",
   "execution_count": null,
   "id": "3b9fd654",
   "metadata": {},
   "outputs": [],
   "source": [
    "t0 = 1264316116.435\n",
    "event_idx = np.abs(gps_times - t0).argmin()\n",
    "\n",
    "dur = 6\n",
    "time = np.linspace(0, dur, fs*dur) - 2\n",
    "\n",
    "dx1 = int(fs*2)\n",
    "dx2 = int(fs*4)\n",
    "dset0_norm = dset[0,event_idx-dx1:event_idx+dx2]/np.max(np.abs(dset[0,event_idx-dx1:event_idx+dx2]))\n",
    "dset1_norm = dset[1,event_idx-dx1:event_idx+dx2]/np.max(np.abs(dset[1,event_idx-dx1:event_idx+dx2]))\n",
    "dset2_norm = dset[2,event_idx-dx1:event_idx+dx2]/np.max(np.abs(dset[2,event_idx-dx1:event_idx+dx2]))\n",
    "dset3_norm = dset[3,event_idx-dx1:event_idx+dx2]/np.max(np.abs(dset[3,event_idx-dx1:event_idx+dx2]))"
   ]
  },
  {
   "cell_type": "code",
   "execution_count": null,
   "id": "a411572b",
   "metadata": {},
   "outputs": [],
   "source": [
    "plt.figure(figsize=(6,10))\n",
    "plt.subplot(4,1,1)\n",
    "plt.plot(time, dset0_norm, label= 'h(t)')\n",
    "plt.xlim([-2,4])\n",
    "plt.legend(loc='upper left', fontsize=14)\n",
    "plt.subplot(4,1,2)\n",
    "plt.plot(time, dset1_norm, label= 'RF45-Q')\n",
    "plt.xlim([-2,4])\n",
    "plt.legend(loc='upper left', fontsize=14)\n",
    "plt.subplot(4,1,3)\n",
    "plt.plot(time, dset2_norm, label= 'RF45-I')\n",
    "plt.xlim([-2,4])\n",
    "plt.legend(loc='upper left', fontsize=14)\n",
    "plt.subplot(4,1,4)\n",
    "plt.plot(time, dset3_norm, label= 'RF9-I')\n",
    "plt.xlim([-2,4])\n",
    "plt.xlabel('Time (seconds) from 2020-01-29 06:54:58.435 UTC', fontsize=14)\n",
    "plt.legend(loc='upper left', fontsize=14)\n",
    "plt.tight_layout()\n",
    "plt.savefig(f'output/plots/paper_tseries.png', dpi=400)"
   ]
  },
  {
   "cell_type": "markdown",
   "id": "b9aaac8a",
   "metadata": {},
   "source": [
    "## Spectrogram"
   ]
  },
  {
   "cell_type": "code",
   "execution_count": null,
   "id": "f91c31fa",
   "metadata": {},
   "outputs": [],
   "source": [
    "data = np.load(f'data/DCS-CALIB_STRAIN_CLEAN_C01_4096Hz_event_4096s.npy')\n",
    "orig_tseries = TimeSeries(data[:,1], times=data[:,0] - t0)\n",
    "\n",
    "data = np.load(f'output/DCS-CALIB_STRAIN_CLEAN_C01_4096Hz_event_cleaned.npy')\n",
    "cleaned_tseries = TimeSeries(data[1,:], times=data[0,:] - t0)"
   ]
  },
  {
   "cell_type": "code",
   "execution_count": null,
   "id": "36f0d9c0",
   "metadata": {},
   "outputs": [],
   "source": [
    "# plotting params\n",
    "crop_win = 20\n",
    "plot_win = 2\n",
    "\n",
    "# crop data for faster q transforms\n",
    "orig_tseries_cropped = orig_tseries.crop(-crop_win,crop_win)\n",
    "cleaned_tseries_cropped = cleaned_tseries.crop(-crop_win, crop_win)\n",
    "\n",
    "dataset = ['orig','clean','diff']\n",
    "q_trans = {}\n",
    "q_trans['orig'] = orig_tseries_cropped.q_transform(outseg=(-plot_win, plot_win),qrange=(10,20))\n",
    "q_trans['clean'] = cleaned_tseries_cropped.q_transform(outseg=(-plot_win, plot_win),qrange=(10,20))\n",
    "q_trans['diff'] = q_trans['orig'] - q_trans['clean']\n",
    "\n",
    "ylim = (10, 512) \n",
    "alim = (0, 25)\n",
    "\n",
    "label = {}\n",
    "label['orig'] = 'Original data'\n",
    "label['clean'] = 'Cleaned data'\n",
    "label['diff'] = 'Original - Cleaned'\n",
    "\n",
    "plot, axes = plt.subplots(nrows=3, sharex=True, figsize=(3.375*2.0,3.375*3.0))\n",
    "\n",
    "for i, ax in zip(dataset,axes):\n",
    "\n",
    "    pcm = ax.imshow(q_trans[i], vmin=alim[0], vmax=alim[1])\n",
    "    ax.set_ylim(ylim[0], ylim[1])\n",
    "    ax.set_xlabel('')\n",
    "    ax.set_yscale('log')\n",
    "    ax.plot([0], 10, label=label[i], visible=False)\n",
    "    ax.grid(alpha=0.6)\n",
    "    ax.legend(loc='upper left', handlelength=0, handletextpad=0)\n",
    "\n",
    "axes[1].set_ylabel(r\"$\\mathrm{Frequency \\ (Hz)}$\")\n",
    "axes[-1].set_xlabel(r\"$\\mathrm{Time \\ (seconds)}$\")\n",
    "cbar = axes[0].colorbar(clim=(alim[0], alim[1]),location='top')\n",
    "cbar.set_label(r\"$\\mathrm{Normalized \\ energy}$\");\n",
    "\n",
    "plot.tight_layout()\n",
    "plot.subplots_adjust(top=0.85)\n",
    "plot.savefig('output/plots/paper_oscan.png', dpi=400)"
   ]
  },
  {
   "cell_type": "markdown",
   "id": "868679e0",
   "metadata": {},
   "source": [
    "## Stats plot\n",
    "do this on Stats folder/env"
   ]
  },
  {
   "cell_type": "code",
   "execution_count": null,
   "id": "70600ad6",
   "metadata": {},
   "outputs": [],
   "source": []
  }
 ],
 "metadata": {
  "kernelspec": {
   "display_name": "ml",
   "language": "python",
   "name": "ml"
  },
  "language_info": {
   "codemirror_mode": {
    "name": "ipython",
    "version": 3
   },
   "file_extension": ".py",
   "mimetype": "text/x-python",
   "name": "python",
   "nbconvert_exporter": "python",
   "pygments_lexer": "ipython3",
   "version": "3.10.6"
  }
 },
 "nbformat": 4,
 "nbformat_minor": 5
}
