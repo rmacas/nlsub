{
 "cells": [
  {
   "cell_type": "markdown",
   "id": "d11ff573",
   "metadata": {},
   "source": [
    "# Whiten the data"
   ]
  },
  {
   "cell_type": "code",
   "execution_count": null,
   "id": "8720f3f2",
   "metadata": {},
   "outputs": [],
   "source": [
    "import numpy as np\n",
    "import scipy.fft\n",
    "import matplotlib.pyplot as plt\n",
    "\n",
    "from gwpy.timeseries import TimeSeries\n",
    "from gwpy.frequencyseries import FrequencySeries"
   ]
  },
  {
   "cell_type": "code",
   "execution_count": null,
   "id": "84ad24b1",
   "metadata": {},
   "outputs": [],
   "source": [
    "suffixes = ['27hrs', 'event_120s', 'event_4096s']  # suffixes for channels\n",
    "\n",
    "channels = ['DCS-CALIB_STRAIN_CLEAN_C01_512Hz', 'LSC-POP_A_RF45_I_ERR_DQ_512Hz',\n",
    "           'LSC-POP_A_RF45_Q_ERR_DQ_512Hz', 'LSC-POP_A_RF9_I_ERR_DQ_512Hz']"
   ]
  },
  {
   "cell_type": "code",
   "execution_count": null,
   "id": "9161f00f",
   "metadata": {},
   "outputs": [],
   "source": [
    "for suffix in suffixes:\n",
    "    for channel in channels:\n",
    "\n",
    "        # load ASD\n",
    "        asd = FrequencySeries.read(f'data/{channel}_ASD.txt')\n",
    "\n",
    "        # load tseries\n",
    "        tseries = np.load(f'data/{channel}_{suffix}.npy')[:,1]\n",
    "        gps_times = np.load(f'data/{channel}_{suffix}.npy')[:,0]\n",
    "\n",
    "        # tseries in freq domain\n",
    "        fseries = scipy.fft.rfft(tseries)\n",
    "\n",
    "        # interpolate ASD to fseries length\n",
    "        freqs = asd.frequencies\n",
    "        freqs_interp = np.linspace(freqs[0], freqs[-1], len(fseries))\n",
    "        asd_interp = np.interp(freqs_interp, freqs, asd.value)\n",
    "\n",
    "        # whiten tseries\n",
    "        whitened = scipy.fft.irfft(fseries/asd_interp)\n",
    "\n",
    "        # write whitened tseries to a np file\n",
    "        whitened_array = np.array([gps_times, whitened]).T\n",
    "        np.save(f'real_data/{channel}_{suffix}_whitened', whitened_array)"
   ]
  },
  {
   "cell_type": "code",
   "execution_count": null,
   "id": "51d749d8",
   "metadata": {},
   "outputs": [],
   "source": []
  }
 ],
 "metadata": {
  "kernelspec": {
   "display_name": " igwn-py",
   "language": "python",
   "name": "igwn-py"
  },
  "language_info": {
   "codemirror_mode": {
    "name": "ipython",
    "version": 3
   },
   "file_extension": ".py",
   "mimetype": "text/x-python",
   "name": "python",
   "nbconvert_exporter": "python",
   "pygments_lexer": "ipython3",
   "version": "3.10.12"
  }
 },
 "nbformat": 4,
 "nbformat_minor": 5
}
